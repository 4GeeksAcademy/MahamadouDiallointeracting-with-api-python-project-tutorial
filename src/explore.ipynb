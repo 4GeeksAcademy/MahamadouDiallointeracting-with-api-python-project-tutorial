{
    "cells": [
        {
            "cell_type": "markdown",
            "metadata": {},
            "source": [
                "# Explore here"
            ]
        },
        {
            "cell_type": "code",
            "execution_count": 6,
            "metadata": {},
            "outputs": [
                {
                    "name": "stdout",
                    "output_type": "stream",
                    "text": [
                        "Defaulting to user installation because normal site-packages is not writeable\n",
                        "Requirement already satisfied: python-dotenv in /home/vscode/.local/lib/python3.11/site-packages (0.20.0)\n",
                        "\n",
                        "\u001b[1m[\u001b[0m\u001b[34;49mnotice\u001b[0m\u001b[1;39;49m]\u001b[0m\u001b[39;49m A new release of pip is available: \u001b[0m\u001b[31;49m23.1.2\u001b[0m\u001b[39;49m -> \u001b[0m\u001b[32;49m24.2\u001b[0m\n",
                        "\u001b[1m[\u001b[0m\u001b[34;49mnotice\u001b[0m\u001b[1;39;49m]\u001b[0m\u001b[39;49m To update, run: \u001b[0m\u001b[32;49mpip install --upgrade pip\u001b[0m\n"
                    ]
                }
            ],
            "source": [
                "!pip install python-dotenv"
            ]
        },
        {
            "cell_type": "code",
            "execution_count": 7,
            "metadata": {},
            "outputs": [],
            "source": [
                "from dotenv import load_dotenv\n",
                "load_dotenv()\n",
                "\n",
                "import os\n",
                "\n",
                "client_id = os.environ.get(\"CLIENT_ID\")\n",
                "client_secret = os.environ.get(\"CLIENT_SECRET\")"
            ]
        },
        {
            "cell_type": "code",
            "execution_count": 8,
            "metadata": {},
            "outputs": [
                {
                    "name": "stdout",
                    "output_type": "stream",
                    "text": [
                        "Access token obtained!\n"
                    ]
                }
            ],
            "source": [
                "import base64\n",
                "import requests\n",
                "\n",
                "# Encode the client credentials\n",
                "client_credentials = f\"{client_id}:{client_secret}\"\n",
                "client_credentials_base64 = base64.b64encode(client_credentials.encode())\n",
                "\n",
                "# Prepare the token request\n",
                "token_url = \"https://accounts.spotify.com/api/token\"\n",
                "headers = {\n",
                "    \"Authorization\": f\"Basic {client_credentials_base64.decode()}\"\n",
                "}\n",
                "data = {\n",
                "    \"grant_type\": \"client_credentials\"\n",
                "}\n",
                "\n",
                "# Request access token\n",
                "response = requests.post(token_url, headers=headers, data=data)\n",
                "\n",
                "# Check if the request was successful\n",
                "if response.status_code == 200:\n",
                "    access_token = response.json()['access_token']\n",
                "    print(\"Access token obtained!\")\n",
                "else:\n",
                "    print(f\"Failed to obtain access token. Status code: {response.status_code}\")\n",
                "    print(response.text)"
            ]
        },
        {
            "cell_type": "code",
            "execution_count": 9,
            "metadata": {},
            "outputs": [
                {
                    "name": "stdout",
                    "output_type": "stream",
                    "text": [
                        "Found artist: Drake (ID: 3TVXtAsR1Inumwj472S9r4)\n"
                    ]
                }
            ],
            "source": [
                "# Set the access token in the headers\n",
                "headers = {\n",
                "    \"Authorization\": f\"Bearer {access_token}\"\n",
                "}\n",
                "\n",
                "# Define the endpoint and parameters\n",
                "search_url = \"https://api.spotify.com/v1/search\"\n",
                "params = {\n",
                "    \"q\": \"Drake\",  # Artist name to search for\n",
                "    \"type\": \"artist\",\n",
                "    \"limit\": 1\n",
                "}\n",
                "\n",
                "# Make the API request to search for the artist\n",
                "response = requests.get(search_url, headers=headers, params=params)\n",
                "\n",
                "# Check if the request was successful\n",
                "if response.status_code == 200:\n",
                "    response_data = response.json()\n",
                "    # print(f\"Response Data: {response_data}\")\n",
                "    artist_id = response_data['artists']['items'][0]['id']\n",
                "    artist_name = response_data['artists']['items'][0]['name']\n",
                "    print(f\"Found artist: {artist_name} (ID: {artist_id})\")\n",
                "else:\n",
                "    print(f\"Failed to search for artist. Status code: {response.status_code}\")\n",
                "    print(response.text)"
            ]
        },
        {
            "cell_type": "code",
            "execution_count": 10,
            "metadata": {},
            "outputs": [
                {
                    "name": "stdout",
                    "output_type": "stream",
                    "text": [
                        "Top tracks for Drake:\n",
                        "1. One Dance - Album: Views\n",
                        "2. WAIT FOR U (feat. Drake & Tems) - Album: I NEVER LIKED YOU\n",
                        "3. God's Plan - Album: Scorpion\n",
                        "4. Jimmy Cooks (feat. 21 Savage) - Album: Honestly, Nevermind\n",
                        "5. Passionfruit - Album: More Life\n",
                        "6. Circadian Rhythm - Album: 100 GIGS\n",
                        "7. Rich Baby Daddy (feat. Sexyy Red & SZA) - Album: For All The Dogs\n",
                        "8. No Face - Album: No Face\n",
                        "9. It's Up (feat. Young Thug & 21 Savage) - Album: 100 GIGS\n",
                        "10. Fair Trade (with Travis Scott) - Album: Certified Lover Boy\n"
                    ]
                }
            ],
            "source": [
                "# Define the endpoint for the artist's top tracks\n",
                "top_tracks_url = f\"https://api.spotify.com/v1/artists/{artist_id}/top-tracks\"\n",
                "params = {\n",
                "    \"market\": \"US\"  # Specify the market (country)\n",
                "}\n",
                "\n",
                "# Make the API request to get top tracks\n",
                "response = requests.get(top_tracks_url, headers=headers, params=params)\n",
                "\n",
                "# Check if the request was successful\n",
                "if response.status_code == 200:\n",
                "    top_tracks_data = response.json()\n",
                "    print(f\"Top tracks for {artist_name}:\")\n",
                "    for idx, track in enumerate(top_tracks_data['tracks'], start=1):\n",
                "        # print(f\"Track data: {track}\")\n",
                "        track_name = track['name']\n",
                "        album_name = track['album']['name']\n",
                "        popularity = track['popularity']\n",
                "        duration = track['duration_ms']\n",
                "        print(f\"{idx}. {track_name} - Album: {album_name}\")\n",
                "else:\n",
                "    print(f\"Failed to get top tracks. Status code: {response.status_code}\")\n",
                "    print(response.text)"
            ]
        },
        {
            "cell_type": "code",
            "execution_count": 14,
            "metadata": {},
            "outputs": [
                {
                    "data": {
                        "text/html": [
                            "<div>\n",
                            "<style scoped>\n",
                            "    .dataframe tbody tr th:only-of-type {\n",
                            "        vertical-align: middle;\n",
                            "    }\n",
                            "\n",
                            "    .dataframe tbody tr th {\n",
                            "        vertical-align: top;\n",
                            "    }\n",
                            "\n",
                            "    .dataframe thead th {\n",
                            "        text-align: right;\n",
                            "    }\n",
                            "</style>\n",
                            "<table border=\"1\" class=\"dataframe\">\n",
                            "  <thead>\n",
                            "    <tr style=\"text-align: right;\">\n",
                            "      <th></th>\n",
                            "      <th>name</th>\n",
                            "      <th>album_name</th>\n",
                            "      <th>popularity</th>\n",
                            "      <th>duration_min</th>\n",
                            "    </tr>\n",
                            "  </thead>\n",
                            "  <tbody>\n",
                            "    <tr>\n",
                            "      <th>0</th>\n",
                            "      <td>One Dance</td>\n",
                            "      <td>Views</td>\n",
                            "      <td>85</td>\n",
                            "      <td>2.899767</td>\n",
                            "    </tr>\n",
                            "    <tr>\n",
                            "      <th>1</th>\n",
                            "      <td>WAIT FOR U (feat. Drake &amp; Tems)</td>\n",
                            "      <td>I NEVER LIKED YOU</td>\n",
                            "      <td>82</td>\n",
                            "      <td>3.164883</td>\n",
                            "    </tr>\n",
                            "    <tr>\n",
                            "      <th>2</th>\n",
                            "      <td>God's Plan</td>\n",
                            "      <td>Scorpion</td>\n",
                            "      <td>81</td>\n",
                            "      <td>3.316217</td>\n",
                            "    </tr>\n",
                            "    <tr>\n",
                            "      <th>3</th>\n",
                            "      <td>Jimmy Cooks (feat. 21 Savage)</td>\n",
                            "      <td>Honestly, Nevermind</td>\n",
                            "      <td>80</td>\n",
                            "      <td>3.639400</td>\n",
                            "    </tr>\n",
                            "    <tr>\n",
                            "      <th>4</th>\n",
                            "      <td>Passionfruit</td>\n",
                            "      <td>More Life</td>\n",
                            "      <td>80</td>\n",
                            "      <td>4.982333</td>\n",
                            "    </tr>\n",
                            "    <tr>\n",
                            "      <th>5</th>\n",
                            "      <td>Circadian Rhythm</td>\n",
                            "      <td>100 GIGS</td>\n",
                            "      <td>80</td>\n",
                            "      <td>2.105933</td>\n",
                            "    </tr>\n",
                            "    <tr>\n",
                            "      <th>6</th>\n",
                            "      <td>Rich Baby Daddy (feat. Sexyy Red &amp; SZA)</td>\n",
                            "      <td>For All The Dogs</td>\n",
                            "      <td>79</td>\n",
                            "      <td>5.319850</td>\n",
                            "    </tr>\n",
                            "    <tr>\n",
                            "      <th>7</th>\n",
                            "      <td>No Face</td>\n",
                            "      <td>No Face</td>\n",
                            "      <td>79</td>\n",
                            "      <td>2.285700</td>\n",
                            "    </tr>\n",
                            "    <tr>\n",
                            "      <th>8</th>\n",
                            "      <td>It's Up (feat. Young Thug &amp; 21 Savage)</td>\n",
                            "      <td>100 GIGS</td>\n",
                            "      <td>78</td>\n",
                            "      <td>4.633333</td>\n",
                            "    </tr>\n",
                            "    <tr>\n",
                            "      <th>9</th>\n",
                            "      <td>Fair Trade (with Travis Scott)</td>\n",
                            "      <td>Certified Lover Boy</td>\n",
                            "      <td>78</td>\n",
                            "      <td>4.852917</td>\n",
                            "    </tr>\n",
                            "  </tbody>\n",
                            "</table>\n",
                            "</div>"
                        ],
                        "text/plain": [
                            "                                      name           album_name  popularity  \\\n",
                            "0                                One Dance                Views          85   \n",
                            "1          WAIT FOR U (feat. Drake & Tems)    I NEVER LIKED YOU          82   \n",
                            "2                               God's Plan             Scorpion          81   \n",
                            "3            Jimmy Cooks (feat. 21 Savage)  Honestly, Nevermind          80   \n",
                            "4                             Passionfruit            More Life          80   \n",
                            "5                         Circadian Rhythm             100 GIGS          80   \n",
                            "6  Rich Baby Daddy (feat. Sexyy Red & SZA)     For All The Dogs          79   \n",
                            "7                                  No Face              No Face          79   \n",
                            "8   It's Up (feat. Young Thug & 21 Savage)             100 GIGS          78   \n",
                            "9           Fair Trade (with Travis Scott)  Certified Lover Boy          78   \n",
                            "\n",
                            "   duration_min  \n",
                            "0      2.899767  \n",
                            "1      3.164883  \n",
                            "2      3.316217  \n",
                            "3      3.639400  \n",
                            "4      4.982333  \n",
                            "5      2.105933  \n",
                            "6      5.319850  \n",
                            "7      2.285700  \n",
                            "8      4.633333  \n",
                            "9      4.852917  "
                        ]
                    },
                    "execution_count": 14,
                    "metadata": {},
                    "output_type": "execute_result"
                }
            ],
            "source": [
                "import pandas as pd\n",
                "response = requests.get(top_tracks_url, headers=headers, params=params)\n",
                "top_tracks_data = response.json()\n",
                "tracks_info = []\n",
                "for track in top_tracks_data['tracks']:\n",
                "    track_info = {\n",
                "        \"name\": track['name'], \n",
                "        \"album_name\": track['album']['name'],\n",
                "        \"popularity\": track['popularity'],\n",
                "        \"duration_min\": track['duration_ms'] / 60000\n",
                "    }\n",
                "    tracks_info.append(track_info)\n",
                "df = pd.DataFrame(tracks_info)\n",
                "df\n",
                "\n"
            ]
        },
        {
            "cell_type": "code",
            "execution_count": 16,
            "metadata": {},
            "outputs": [
                {
                    "data": {
                        "image/png": "[encoded data removed]",
                        "text/plain": [
                            "<Figure size 640x480 with 1 Axes>"
                        ]
                    },
                    "metadata": {},
                    "output_type": "display_data"
                }
            ],
            "source": [
                "import matplotlib.pyplot as plt\n",
                "plt.scatter(df['duration_min'], df['popularity'])\n",
                "\n",
                "# Add labels and title\n",
                "plt.xlabel('track duration min')\n",
                "plt.ylabel('track popularity')\n",
                "plt.title('duration vs popularity')\n",
                "\n",
                "# Show the plot\n",
                "plt.show()"
            ]
        },
        {
            "cell_type": "code",
            "execution_count": 13,
            "metadata": {},
            "outputs": [
                {
                    "name": "stdout",
                    "output_type": "stream",
                    "text": [
                        "Access token obtained successfully.\n"
                    ]
                }
            ],
            "source": [
                "def get_access_token(client_id, client_secret):\n",
                "    try:\n",
                "        # Encoding and token request as before\n",
                "        client_credentials = f\"{client_id}:{client_secret}\"\n",
                "        client_credentials_base64 = base64.b64encode(client_credentials.encode())\n",
                "        token_url = \"https://accounts.spotify.com/api/token\"\n",
                "        headers = {\n",
                "            \"Authorization\": f\"Basic {client_credentials_base64.decode()}\"\n",
                "        }\n",
                "        data = {\n",
                "            \"grant_type\": \"client_credentials\"\n",
                "        }\n",
                "        response = requests.post(token_url, headers=headers, data=data)\n",
                "        response.raise_for_status()  # Raises an HTTPError for bad status codes\n",
                "        access_token = response.json()['access_token']\n",
                "        return access_token\n",
                "    except requests.exceptions.HTTPError as err:\n",
                "        print(f\"HTTP error occurred: {err}\")\n",
                "    except Exception as err:\n",
                "        print(f\"An error occurred: {err}\")\n",
                "    return None\n",
                "\n",
                "# Use the function to get the access token\n",
                "access_token = get_access_token(client_id, client_secret)\n",
                "if access_token:\n",
                "    print(\"Access token obtained successfully.\")\n",
                "else:\n",
                "    print(\"Failed to obtain access token.\")"
            ]
        }
    ],
    "metadata": {
        "kernelspec": {
            "display_name": "Python 3",
            "language": "python",
            "name": "python3"
        },
        "language_info": {
            "codemirror_mode": {
                "name": "ipython",
                "version": 3
            },
            "file_extension": ".py",
            "mimetype": "text/x-python",
            "name": "python",
            "nbconvert_exporter": "python",
            "pygments_lexer": "ipython3",
            "version": "3.11.4"
        },
        "orig_nbformat": 4
    },
    "nbformat": 4,
    "nbformat_minor": 2
}
